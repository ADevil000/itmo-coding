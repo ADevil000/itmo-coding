{
 "cells": [
  {
   "cell_type": "markdown",
   "source": [
    "# Алгебраические коды"
   ],
   "metadata": {
    "collapsed": false,
    "pycharm": {
     "name": "#%% md\n"
    }
   }
  },
  {
   "cell_type": "markdown",
   "source": [
    "## Терминология\n",
    "\n",
    "Будем называть кодом некоторое пространство $C$ над полем $F$.\n",
    "\n",
    "Линейным блоковым кодом будем называть $k$-мерное подпространство $n$-мерного векторного пространства над полем $GF(q)$."
   ],
   "metadata": {
    "collapsed": false,
    "pycharm": {
     "name": "#%% md\n"
    }
   }
  },
  {
   "cell_type": "markdown",
   "source": [
    "## Информационная совокупность\n",
    "\n",
    "Информационная совокупность кода $C$ над полем $F$ это такое минимальное подмножество координат $J$, что все элементы $F^{|J|}$ в этих координатах различны.\n",
    "\n",
    "Информационная совокупность линейного кода $C \\subset \\mathbb{F}_q^n$ это такое множество координат $J = \\{j_1, j_2,  \\dots j_k\\}$, что для любого $f \\in \\mathbb{F}_q^k$ существует единственное кодовое слово $c \\in C$ такое, что для всех $i \\in [1, k]$ верно $c_{j_i} = f_i$.\n",
    "\n",
    "Проверочной совокупностью называются все координаты, не являющиеся информационными."
   ],
   "metadata": {
    "collapsed": false,
    "pycharm": {
     "name": "#%% md\n"
    }
   }
  },
  {
   "cell_type": "markdown",
   "source": [
    "## Декодирование по информационным совокупностям\n",
    "\n",
    "Пусть $y = c + e$, где $c$ — исходный вектор, $y$ — принятый вектор, а $e$ — вектор ошибки. Информационная совокупность $J$ называется свободной от ошибок, если для всех $i \\in J$ верно $e_i = 0$. Если её удалось найти, то можно восстановить $c$ (исходя из определения $J$).\n",
    "\n",
    "Общий алгоритм декодирования следующий. Пройдёмся по всем возможным $J$. Вычислим для каждой $J$ восстановленный вектор $c_J$. Результатом будет являться $\\underset{c_J}{argmin} d_H(c_J, y)$.\n",
    "\n",
    "Для линейных кодов каждая возможная информационная совокупность $J$ соответствует некоторой матрице $G_J$, полученной из порождающей матрицы $G$ путём комбинации линейных преобразований над строками, такой, что столбцы с позициями из $J$ образуют единичную матрицу в $G_J$. Тогда $c_J = y_J \\cdot G_J$.\n",
    "\n",
    "Далее будет показан пример перебора таких информационных совокупностей."
   ],
   "metadata": {
    "collapsed": false,
    "pycharm": {
     "name": "#%% md\n"
    }
   }
  },
  {
   "cell_type": "code",
   "execution_count": 1,
   "outputs": [
    {
     "name": "stdout",
     "output_type": "stream",
     "text": [
      "g:\n",
      "[[1 1 1 1 1 1 1 1 0 0 0 0 0 0 0 0]\n",
      " [1 1 1 1 0 0 0 0 1 1 1 1 0 0 0 0]\n",
      " [1 1 0 0 1 1 0 0 1 1 0 0 1 1 0 0]\n",
      " [1 0 1 0 1 0 1 0 1 0 1 0 1 0 1 0]\n",
      " [1 1 1 1 1 1 1 1 1 1 1 1 1 1 1 1]]\n",
      "y: [1 1 0 0 0 0 0 1 1 1 0 0 1 0 1 0]\n"
     ]
    }
   ],
   "source": [
    "from algebra.binary import binary_array\n",
    "\n",
    "g = binary_array([[1] * 8 + [0] * 8, ([1] * 4 + [0] * 4) * 2, ([1] * 2 + [0] * 2) * 4, [1, 0] * 8, [1] * 16])\n",
    "print(\"g:\")\n",
    "print(g)\n",
    "\n",
    "def generate_j(g_j):\n",
    "    n, m = len(g_j), len(g_j[0])\n",
    "    j = [None] * n\n",
    "    for i in range(0, m):\n",
    "        if sum([1 if g_j[k][i] == 1 else 0 for k in range(n)]) == 1:\n",
    "            j[max([k if g_j[k][i] == 1 else 0 for k in range(n)])] = i\n",
    "    return j\n",
    "\n",
    "y = binary_array([1, 1, 0, 0, 0, 0, 0, 1, 1, 1, 0, 0, 1, 0, 1, 0])\n",
    "print(\"y: \" + str(y))"
   ],
   "metadata": {
    "collapsed": false,
    "pycharm": {
     "name": "#%%\n"
    }
   }
  },
  {
   "cell_type": "code",
   "execution_count": 2,
   "outputs": [
    {
     "name": "stdout",
     "output_type": "stream",
     "text": [
      "g_1:\n",
      "[[1 0 0 1 1 0 0 1 0 1 1 0 0 1 1 0]\n",
      " [0 0 0 0 1 1 1 1 1 1 1 1 0 0 0 0]\n",
      " [0 0 1 1 0 0 1 1 1 1 0 0 1 1 0 0]\n",
      " [0 1 0 1 1 0 1 0 0 1 0 1 1 0 1 0]\n",
      " [0 0 0 0 0 0 0 0 1 1 1 1 1 1 1 1]]\n",
      "j_1: [0, 5, 2, 1, 15]\n",
      "y_j1: [1 0 0 1 0]\n",
      "c_1: [1 1 0 0 0 0 1 1 0 0 1 1 1 1 0 0]\n",
      "e_1: [0 0 0 0 0 0 1 0 1 1 1 1 0 1 1 0]\n",
      "d_1: 7\n"
     ]
    }
   ],
   "source": [
    "from algebra.binary import to_array\n",
    "import numpy as np\n",
    "\n",
    "g1 = np.copy(g)\n",
    "g1 += np.array([g1[0] if i != 0 else [0] * len(g1[0]) for i in range(len(g1))])\n",
    "g1[0] += g1[3]\n",
    "g1[0] += g1[2]\n",
    "g1[3] += g1[1]\n",
    "print(\"g_1:\")\n",
    "print(g1)\n",
    "\n",
    "j1 = generate_j(g1)\n",
    "yj1 = np.array([y[pos] for pos in j1])\n",
    "print(\"j_1: \" + str(j1))\n",
    "print(\"y_j1: \" + str(yj1))\n",
    "\n",
    "c1 = yj1 @ g1\n",
    "e1 = y - c1\n",
    "print(\"c_1: \" + str(c1))\n",
    "print(\"e_1: \" + str(e1))\n",
    "print(\"d_1: \" + str(sum(to_array(e1))))"
   ],
   "metadata": {
    "collapsed": false,
    "pycharm": {
     "name": "#%%\n"
    }
   }
  },
  {
   "cell_type": "code",
   "execution_count": 3,
   "outputs": [
    {
     "name": "stdout",
     "output_type": "stream",
     "text": [
      "g_2:\n",
      "[[1 0 1 0 1 0 1 0 1 0 1 0 1 0 1 0]\n",
      " [0 0 1 1 1 1 0 0 0 0 1 1 1 1 0 0]\n",
      " [0 0 1 1 0 0 1 1 1 1 0 0 1 1 0 0]\n",
      " [0 1 0 1 1 0 1 0 0 1 0 1 1 0 1 0]\n",
      " [0 0 0 0 0 0 0 0 1 1 1 1 1 1 1 1]]\n",
      "j_2: [0, 5, 7, 1, 15]\n",
      "y_j2: [1 0 1 1 0]\n",
      "c_2: [1 1 0 0 0 0 1 1 0 0 1 1 1 1 0 0]\n",
      "e_2: [0 0 0 0 0 0 1 0 1 1 1 1 0 1 1 0]\n",
      "d_2: 7\n"
     ]
    }
   ],
   "source": [
    "g2 = np.copy(g1)\n",
    "g2[0] += g2[2]\n",
    "g2[1] += g2[2]\n",
    "print(\"g_2:\")\n",
    "print(g2)\n",
    "\n",
    "j2 = generate_j(g2)\n",
    "yj2 = np.array([y[pos] for pos in j2])\n",
    "print(\"j_2: \" + str(j2))\n",
    "print(\"y_j2: \" + str(yj2))\n",
    "\n",
    "c2 = yj2 @ g2\n",
    "e2 = y - c2\n",
    "print(\"c_2: \" + str(c2))\n",
    "print(\"e_2: \" + str(e2))\n",
    "print(\"d_2: \" + str(sum(to_array(e2))))"
   ],
   "metadata": {
    "collapsed": false,
    "pycharm": {
     "name": "#%%\n"
    }
   }
  },
  {
   "cell_type": "code",
   "execution_count": 4,
   "outputs": [
    {
     "name": "stdout",
     "output_type": "stream",
     "text": [
      "g_3:\n",
      "[[1 0 1 0 1 0 1 0 1 0 1 0 1 0 1 0]\n",
      " [0 0 1 1 1 1 0 0 0 0 1 1 1 1 0 0]\n",
      " [0 0 1 1 0 0 1 1 0 0 1 1 0 0 1 1]\n",
      " [0 1 0 1 1 0 1 0 1 0 1 0 0 1 0 1]\n",
      " [0 0 0 0 0 0 0 0 1 1 1 1 1 1 1 1]]\n",
      "j_3: [0, 5, 7, 1, 9]\n",
      "y_j3: [1 0 1 1 1]\n",
      "c_3: [1 1 0 0 0 0 1 1 1 1 0 0 0 0 1 1]\n",
      "e_3: [0 0 0 0 0 0 1 0 0 0 0 0 1 0 0 1]\n",
      "d_3: 3\n"
     ]
    }
   ],
   "source": [
    "g3 = np.copy(g2)\n",
    "g3[3] += g3[4]\n",
    "g3[2] += g3[4]\n",
    "print(\"g_3:\")\n",
    "print(g3)\n",
    "\n",
    "j3 = generate_j(g3)\n",
    "yj3 = np.array([y[pos] for pos in j3])\n",
    "print(\"j_3: \" + str(j3))\n",
    "print(\"y_j3: \" + str(yj3))\n",
    "\n",
    "c3 = yj3 @ g3\n",
    "e3 = y - c3\n",
    "print(\"c_3: \" + str(c3))\n",
    "print(\"e_3: \" + str(e3))\n",
    "print(\"d_3: \" + str(sum(to_array(e3))))"
   ],
   "metadata": {
    "collapsed": false,
    "pycharm": {
     "name": "#%%\n"
    }
   }
  }
 ],
 "metadata": {
  "kernelspec": {
   "display_name": "Python 3",
   "language": "python",
   "name": "python3"
  },
  "language_info": {
   "codemirror_mode": {
    "name": "ipython",
    "version": 2
   },
   "file_extension": ".py",
   "mimetype": "text/x-python",
   "name": "python",
   "nbconvert_exporter": "python",
   "pygments_lexer": "ipython2",
   "version": "2.7.6"
  }
 },
 "nbformat": 4,
 "nbformat_minor": 0
}