{
 "cells": [
  {
   "cell_type": "markdown",
   "source": [
    "# Алгебраические коды"
   ],
   "metadata": {
    "collapsed": false,
    "pycharm": {
     "name": "#%% md\n"
    }
   }
  },
  {
   "cell_type": "markdown",
   "source": [
    "## Терминология\n",
    "\n",
    "Будем называть кодом некоторое пространство $C$ над полем $F$.\n",
    "\n",
    "Линейным блоковым кодом будем называть $k$-мерное подпространство $n$-мерного векторного пространства над полем $GF(q)$."
   ],
   "metadata": {
    "collapsed": false,
    "pycharm": {
     "name": "#%% md\n"
    }
   }
  },
  {
   "cell_type": "markdown",
   "source": [
    "## Информационная совокупность\n",
    "\n",
    "Информационная совокупность кода $C$ над полем $F$ это такое минимальное подмножество координат $J$, что все элементы $F^{|J|}$ в этих координатах различны.\n",
    "\n",
    "Информационная совокупность линейного кода $C \\subset \\mathbb{F}_q^n$ это такое множество координат $J = \\{j_1, j_2,  \\dots j_k\\}$, что для любого $f \\in \\mathbb{F}_q^k$ существует единственное кодовое слово $c \\in C$ такое, что для всех $i \\in [1, k]$ верно $c_{j_i} = f_i$.\n",
    "\n",
    "Проверочной совокупностью называются все координаты, не являющиеся информационными."
   ],
   "metadata": {
    "collapsed": false,
    "pycharm": {
     "name": "#%% md\n"
    }
   }
  },
  {
   "cell_type": "markdown",
   "source": [
    "## Декодирование по информационным совокупностям\n",
    "\n",
    "Пусть $y = c + e$, где $c$ — исходный вектор, $y$ — принятый вектор, а $e$ — вектор ошибки. Информационная совокупность $J$ называется свободной от ошибок, если для всех $i \\in J$ верно $e_i = 0$. Если её удалось найти, то можно восстановить $c$ (исходя из определения $J$).\n",
    "\n",
    "Общий алгоритм декодирования следующий. Пройдёмся по всем возможным $J$. Вычислим для каждой $J$ восстановленный вектор $c_J$. Результатом будет являться $\\underset{c_J}{argmin} d_H(c_J, y)$.\n",
    "\n",
    "Для линейных кодов каждая возможная информационная совокупность $J$ соответствует некоторой матрице $G_J$, полученной из порождающей матрицы $G$ путём комбинации линейных преобразований над строками, такой, что столбцы с позициями из $J$ образуют единичную матрицу в $G_J$. Тогда $c_J = y_J \\cdot G_J$.\n",
    "\n",
    "Далее будет показан пример перебора таких информационных совокупностей."
   ],
   "metadata": {
    "collapsed": false,
    "pycharm": {
     "name": "#%% md\n"
    }
   }
  },
  {
   "cell_type": "code",
   "execution_count": 1,
   "outputs": [
    {
     "name": "stdout",
     "output_type": "stream",
     "text": [
      "g:\n",
      "[[1 1 1 1 1 1 1 1 0 0 0 0 0 0 0 0]\n",
      " [1 1 1 1 0 0 0 0 1 1 1 1 0 0 0 0]\n",
      " [1 1 0 0 1 1 0 0 1 1 0 0 1 1 0 0]\n",
      " [1 0 1 0 1 0 1 0 1 0 1 0 1 0 1 0]\n",
      " [1 1 1 1 1 1 1 1 1 1 1 1 1 1 1 1]]\n",
      "y: [1 1 0 0 0 0 0 1 1 1 0 0 1 0 1 0]\n"
     ]
    }
   ],
   "source": [
    "from algebra.binary import binary_array\n",
    "\n",
    "g = binary_array([[1] * 8 + [0] * 8, ([1] * 4 + [0] * 4) * 2, ([1] * 2 + [0] * 2) * 4, [1, 0] * 8, [1] * 16])\n",
    "print(\"g:\")\n",
    "print(g)\n",
    "\n",
    "y = binary_array([1, 1, 0, 0, 0, 0, 0, 1, 1, 1, 0, 0, 1, 0, 1, 0])\n",
    "print(\"y: \" + str(y))"
   ],
   "metadata": {
    "collapsed": false,
    "pycharm": {
     "name": "#%%\n"
    }
   }
  },
  {
   "cell_type": "code",
   "execution_count": 2,
   "outputs": [
    {
     "name": "stdout",
     "output_type": "stream",
     "text": [
      "g_1:\n",
      "[[1 0 0 1 1 0 0 1 0 1 1 0 0 1 1 0]\n",
      " [0 1 0 1 1 0 1 0 0 1 0 1 1 0 1 0]\n",
      " [0 0 1 1 0 0 1 1 1 1 0 0 1 1 0 0]\n",
      " [0 0 0 0 1 1 1 1 1 1 1 1 0 0 0 0]\n",
      " [0 0 0 0 0 0 0 0 1 1 1 1 1 1 1 1]]\n",
      "c1: [1 1 0 0 0 0 1 1 0 0 1 1 1 1 0 0]\n",
      "e1: [0 0 0 0 0 0 1 0 1 1 1 1 0 1 1 0]\n",
      "d1: 7\n"
     ]
    }
   ],
   "source": [
    "from algebra.binary import to_array\n",
    "import numpy as np\n",
    "\n",
    "g1 = np.copy(g)\n",
    "g1 += np.array([g1[0] if i != 0 else [0] * len(g1[0]) for i in range(len(g1))])\n",
    "g1[1], g1[3] = g1[3], g1[1].copy()\n",
    "g1[0] += g1[1]\n",
    "g1[0] += g1[2]\n",
    "g1[1] += g1[3]\n",
    "print(\"g_1:\")\n",
    "print(g1)\n",
    "\n",
    "y1 = np.array([y[0], y[1], y[2], y[5], y[15]])\n",
    "c1 = y1 @ g1\n",
    "e1 = y - c1\n",
    "print(\"c1: \" + str(c1))\n",
    "print(\"e1: \" + str(e1))\n",
    "print(\"d1: \" + str(sum(to_array(e1))))"
   ],
   "metadata": {
    "collapsed": false,
    "pycharm": {
     "name": "#%%\n"
    }
   }
  },
  {
   "cell_type": "code",
   "execution_count": 3,
   "outputs": [
    {
     "name": "stdout",
     "output_type": "stream",
     "text": [
      "g_2:\n",
      "[[1 0 1 0 1 0 1 0 1 0 1 0 1 0 1 0]\n",
      " [0 1 0 1 1 0 1 0 0 1 0 1 1 0 1 0]\n",
      " [0 0 1 1 0 0 1 1 1 1 0 0 1 1 0 0]\n",
      " [0 0 1 1 1 1 0 0 0 0 1 1 1 1 0 0]\n",
      " [0 0 0 0 0 0 0 0 1 1 1 1 1 1 1 1]]\n",
      "c2: [1 1 0 0 0 0 1 1 0 0 1 1 1 1 0 0]\n",
      "e2: [0 0 0 0 0 0 1 0 1 1 1 1 0 1 1 0]\n",
      "d2: 7\n"
     ]
    }
   ],
   "source": [
    "g2 = np.copy(g1)\n",
    "g2[0] += g2[2]\n",
    "g2[3] += g2[2]\n",
    "print(\"g_2:\")\n",
    "print(g2)\n",
    "\n",
    "y2 = np.array([y[0], y[1], y[7], y[5], y[15]])\n",
    "c2 = y2 @ g2\n",
    "e2 = y - c2\n",
    "print(\"c2: \" + str(c2))\n",
    "print(\"e2: \" + str(e2))\n",
    "print(\"d2: \" + str(sum(to_array(e2))))"
   ],
   "metadata": {
    "collapsed": false,
    "pycharm": {
     "name": "#%%\n"
    }
   }
  },
  {
   "cell_type": "code",
   "execution_count": 4,
   "outputs": [
    {
     "name": "stdout",
     "output_type": "stream",
     "text": [
      "g_3:\n",
      "[[1 0 1 0 1 0 1 0 1 0 1 0 1 0 1 0]\n",
      " [0 1 0 1 1 0 1 0 0 1 0 1 1 0 1 0]\n",
      " [0 0 1 1 0 0 1 1 1 1 0 0 1 1 0 0]\n",
      " [0 0 1 1 1 1 0 0 0 0 1 1 1 1 0 0]\n",
      " [0 0 0 0 0 0 0 0 1 1 1 1 1 1 1 1]]\n",
      "c3: [1 1 0 0 0 0 1 1 1 1 0 0 0 0 1 1]\n",
      "e3: [0 0 0 0 0 0 1 0 0 0 0 0 1 0 0 1]\n",
      "d3: 3\n"
     ]
    }
   ],
   "source": [
    "g3 = np.copy(g2)\n",
    "g3[1] += g3[4]\n",
    "g3[1] += g3[4]\n",
    "print(\"g_3:\")\n",
    "print(g3)\n",
    "\n",
    "y3 = np.array([y[0], y[1], y[7], y[5], y[9]])\n",
    "c3 = y3 @ g3\n",
    "e3 = y - c3\n",
    "print(\"c3: \" + str(c3))\n",
    "print(\"e3: \" + str(e3))\n",
    "print(\"d3: \" + str(sum(to_array(e3))))"
   ],
   "metadata": {
    "collapsed": false,
    "pycharm": {
     "name": "#%%\n"
    }
   }
  }
 ],
 "metadata": {
  "kernelspec": {
   "display_name": "Python 3",
   "language": "python",
   "name": "python3"
  },
  "language_info": {
   "codemirror_mode": {
    "name": "ipython",
    "version": 2
   },
   "file_extension": ".py",
   "mimetype": "text/x-python",
   "name": "python",
   "nbconvert_exporter": "python",
   "pygments_lexer": "ipython2",
   "version": "2.7.6"
  }
 },
 "nbformat": 4,
 "nbformat_minor": 0
}