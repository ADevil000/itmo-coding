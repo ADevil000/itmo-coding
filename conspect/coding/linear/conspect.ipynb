{
 "cells": [
  {
   "cell_type": "markdown",
   "source": [
    "# Линейные коды"
   ],
   "metadata": {
    "collapsed": false,
    "pycharm": {
     "name": "#%% md\n"
    }
   }
  },
  {
   "cell_type": "markdown",
   "source": [
    "## Терминология\n",
    "\n",
    "Рассмотрим векторное $n$-мерное пространство $\\mathbb{F}^n_q$, где $q$ --- количество элементов. Выберем подпространство размерности $k$ ($n > k$). Полученна конструкция называется линейным блоковым кодом длины $n$, размерности $k$ и арности $q$. При $q = 2$ такой линейный блоковый код называется двоичным. Параметр $R = \\frac{k}{n}$ называется скоростью кода.\n",
    "\n",
    "Отображение $coding = \\mathbb{F}^k_q \\rightarrow \\mathbb{F}^n_q$ называется процессом кодирования, в то время как $decoding = \\mathbb{F}^n_q \\rightarrow \\mathbb{F}^k_q$ описывает процесс декодирования. При кодировании мы вносим избыточную информацию, добавляя проверочные $n - k$ символов. Эти же проверочные символы позволяют учитывать возможные ошибки в кодовых словах."
   ],
   "metadata": {
    "collapsed": false,
    "pycharm": {
     "name": "#%% md\n"
    }
   }
  },
  {
   "cell_type": "markdown",
   "source": [
    "## Порождающая и проверочная матрица\n",
    "\n",
    "Рассмотрим два вектора таких, что $w \\in \\mathbb{F}^k_q $ и $c \\in \\mathbb{F}^n_q$. Тогда преобразование можно рассматривать как умножение вектора на матрицу, а именно:\n",
    "\n",
    "$$c = w \\cdot \\underset{k \\times n}{G}$$\n",
    "\n",
    "Матрица $G$ называется порождающей матрицей. Проверочной же матрицей называется такая матрица $H$, которая удовлетворяет условию:\n",
    "\n",
    "$$\\underset{k \\times n}{G} \\cdot \\underset{n \\times (n - k)}{H^T} = 0$$\n",
    "\n",
    "Слово $c$ является кодовым тогда и только тогда, когда $c \\cdot H^T = 0$."
   ],
   "metadata": {
    "collapsed": false,
    "pycharm": {
     "name": "#%% md\n"
    }
   }
  },
  {
   "cell_type": "markdown",
   "source": [
    "## Нахождение порождающей и проверочной матриц\n",
    "\n",
    "Пусть у нас существуют матрицы $G'$ и $H'$ такие, что $G' = [I_k | S]$ и ${H'}^T = [-S^T | I_k]$, где $S$ --- некоторая матрица, а $I_k$ --- единичная матрица размерности $k$. Нетрудно показать, что $G' \\cdot {H'}^T = 0$.\n",
    "\n",
    "Тогда путём линейных преобразований можно научиться строить соответствующие матрицы для $G$ и $H$. Для построения $G'$ воспользуемся методом Гаусса. В процессе метода Гаусса мы будем выполнять линейные преобразования над строками (что не поменяет наш код) и перестановку столбцов. Тогда будем считать, что $G' = G \\cdot P_G$, где $P_G$ --- матрица перестановки. Аналогично и для $H'$ (в конце единичную матрицу можно переставить в конец). Для неё введём $P_H$ такую, что $H' = H \\cdot P_H$.\n",
    "\n",
    "Зная, что $(G \\cdot P_G) \\cdot (P_G^{-1} \\cdot H^T) = G \\cdot H^T = 0 = G' \\cdot {H'}^T = (G \\cdot P_G) \\cdot {H'}^T$, получаем, что $(P_G^{-1} \\cdot H^T) = {H'}^T$, откуда следует, что $H = H' \\cdot P_G$.\n",
    "\n",
    "Аналогично зная, что $(G' \\cdot P_H) \\cdot (P_H^{-1} \\cdot {H'}^T) = G' \\cdot {H'}^T = 0 = G \\cdot H^T = G \\cdot (P_H^{-1} \\cdot {H'}^T)$, получаем, что $G = G' \\cdot P_H$."
   ],
   "metadata": {
    "collapsed": false,
    "pycharm": {
     "name": "#%% md\n"
    }
   }
  },
  {
   "cell_type": "code",
   "execution_count": 1,
   "outputs": [
    {
     "name": "stdout",
     "output_type": "stream",
     "text": [
      "[[1 1 1 1 1 1 1 1]\n",
      " [1 1 1 1 0 0 0 0]\n",
      " [1 1 0 0 1 1 0 0]\n",
      " [1 0 1 0 1 0 1 0]]\n"
     ]
    }
   ],
   "source": [
    "from algebra.binary import binary_array\n",
    "\n",
    "reed_muller_mt = binary_array([\n",
    "    [1, 1, 1, 1, 1, 1, 1, 1],\n",
    "    [1, 1, 1, 1, 0, 0, 0, 0],\n",
    "    [1, 1, 0, 0, 1, 1, 0, 0],\n",
    "    [1, 0, 1, 0, 1, 0, 1, 0],\n",
    "])\n",
    "print(reed_muller_mt)"
   ],
   "metadata": {
    "collapsed": false,
    "pycharm": {
     "name": "#%%\n"
    }
   }
  },
  {
   "cell_type": "code",
   "execution_count": 2,
   "outputs": [
    {
     "name": "stdout",
     "output_type": "stream",
     "text": [
      "[[1 1 1 1 0 0 0 0]\n",
      " [0 0 1 1 1 1 0 0]\n",
      " [1 0 1 0 1 0 1 0]\n",
      " [1 0 0 1 1 0 0 1]]\n"
     ]
    }
   ],
   "source": [
    "from coding.linear import gen_to_check\n",
    "\n",
    "h = gen_to_check(g=reed_muller_mt)\n",
    "print(h)"
   ],
   "metadata": {
    "collapsed": false,
    "pycharm": {
     "name": "#%%\n"
    }
   }
  },
  {
   "cell_type": "code",
   "execution_count": 3,
   "outputs": [
    {
     "name": "stdout",
     "output_type": "stream",
     "text": [
      "[[1 1 1 1 0 0 0 0]\n",
      " [0 0 1 1 1 1 0 0]\n",
      " [1 0 1 0 1 0 1 0]\n",
      " [1 0 0 1 1 0 0 1]]\n"
     ]
    }
   ],
   "source": [
    "from coding.linear import check_to_gen\n",
    "\n",
    "g = check_to_gen(h=reed_muller_mt)\n",
    "print(g)"
   ],
   "metadata": {
    "collapsed": false,
    "pycharm": {
     "name": "#%%\n"
    }
   }
  },
  {
   "cell_type": "markdown",
   "source": [
    "## Минимальное расстояние\n",
    "\n",
    "Расстояние Хэмминга между векторами $x$ и $y$ --- количество позиций, в которых вектора $x$ и $y$ отличаются: $d_H(x, y) = | \\{ i | x_i \\neq y_i \\} |$.\n",
    "\n",
    "Пусть у нас есть код $C$. Будем называть минимальным расстоянием $d = \\min_{x \\in C, y \\in C \\setminus \\{x\\}} d_H(x, y)$.\n",
    "\n",
    "Минимальное расстояние кода говорит о том, насколько вектора из $coding(\\mathbb{F}^k_q)$ отличаются в пространстве $\\mathbb{F}^n_q$. Если мы допустим $t$ ошибок в полученном кодовом слове, то мы можем отойти от исходного кодового слова на расстояние не большее, чем $t$, и при этом приблизится к другим кодовым словам на расстояние не больше, чем $t$. Если мы хотим, чтобы ошибки были исправлены, то необходимо, чтобы наш код имел расстояние $d \\ge 2k + 1$.\n",
    "\n",
    "Также необходимо рассмотреть такую проблему, как стирания. Если мы преобразуем наш вектор размера $n$ в вектор размера $n-v$, выкинув случайные элементы вектора, то тем самым отойдём от исходного кодового сова на расстояние $v$, но при этом ни к каким другим кодовым словам не приблизимся. Отсюда можно сделать вывод, что код с минимальным расстоянием $d$ исправляет $t$ ошибок и $v$ стираний тогда и только тогда, когда $d \\ge 2k + v + 1$."
   ],
   "metadata": {
    "collapsed": false,
    "pycharm": {
     "name": "#%% md\n"
    }
   }
  },
  {
   "cell_type": "markdown",
   "source": [
    "## Ограничения линейных кодов\n",
    "\n",
    "Опираясь на различные свойства кодов, можно определить некоторые взаимные ограничения на параметры $n$, $k$, $d$ и $q$. В дальнейшем большими буквами $N$, $K$ и т.д. будем обозначать функции соответствующих параметров, зависящие от прочих параметров.\n",
    "\n",
    "Введём так же определение числа слов кода как $A_q$. Для линейного кода число слов равно $A_q(k) = q^k$."
   ],
   "metadata": {
    "collapsed": false,
    "pycharm": {
     "name": "#%% md\n"
    }
   }
  },
  {
   "cell_type": "markdown",
   "source": [
    "### Граница Синглтона\n",
    "\n",
    "Для любого блокового кода верно:\n",
    "\n",
    "$$A_q(n, d) \\le q^{n - d + 1}$$"
   ],
   "metadata": {
    "collapsed": false,
    "pycharm": {
     "name": "#%% md\n"
    }
   }
  },
  {
   "cell_type": "code",
   "execution_count": 4,
   "outputs": [
    {
     "name": "stdout",
     "output_type": "stream",
     "text": [
      "A₂(19, 3) ≤ 131072\n"
     ]
    }
   ],
   "source": [
    "from coding.linear.singleton import singleton_bound\n",
    "\n",
    "max_value = singleton_bound(q=2, n=19, d=3)\n",
    "print(\"A₂(19, 3) ≤ \" + str(max_value))"
   ],
   "metadata": {
    "collapsed": false,
    "pycharm": {
     "name": "#%%\n"
    }
   }
  },
  {
   "cell_type": "markdown",
   "source": [
    "### Граница Хэмминга\n",
    "\n",
    "Если для блокового кода верно, что $d = 2t + 1$, то:\n",
    "\n",
    "$$A_q(n, d) \\le \\frac{q^n}{\\sum_{i = 0}^{t} C_n^i (q - 1)^i}$$"
   ],
   "metadata": {
    "collapsed": false,
    "pycharm": {
     "name": "#%% md\n"
    }
   }
  },
  {
   "cell_type": "code",
   "execution_count": 5,
   "outputs": [
    {
     "name": "stdout",
     "output_type": "stream",
     "text": [
      "A₂(19, 3) ≤ 26214.4\n"
     ]
    }
   ],
   "source": [
    "from coding.linear.hamming import hamming_bound\n",
    "\n",
    "max_value = hamming_bound(q=2, n=19, d=3)\n",
    "print(\"A₂(19, 3) ≤ \" + str(max_value))"
   ],
   "metadata": {
    "collapsed": false,
    "pycharm": {
     "name": "#%%\n"
    }
   }
  },
  {
   "cell_type": "markdown",
   "source": [
    "### Граница Варшамова-Гилберта\n",
    "\n",
    "Существует блоковый код, удовлетворяющий неравенству:\n",
    "\n",
    "$$A_q(n, d) \\ge \\frac{q^n}{\\sum_{i=0}^{d-1} C_n^i (q-1)^i}$$\n",
    "\n",
    "### Граница Варшамова-Гилберта для линейных кодов\n",
    "\n",
    "Существует линейный блоковый код с числом слов $A_q(n, d) \\ge q^k$, где $k$ --- наибольшее целое число, такое что:\n",
    "\n",
    "$$q^k \\le \\frac{q^n}{\\sum_{i=0}^{d-2} C_{n-1}^i (q-1)^i}$$"
   ],
   "metadata": {
    "collapsed": false,
    "pycharm": {
     "name": "#%% md\n"
    }
   }
  },
  {
   "cell_type": "code",
   "execution_count": 6,
   "outputs": [
    {
     "name": "stdout",
     "output_type": "stream",
     "text": [
      "A₂(19, 3) ≥ 16384\n"
     ]
    }
   ],
   "source": [
    "from coding.linear.gilbert_varshamov import gilbert_varshamov_bound\n",
    "\n",
    "max_value = gilbert_varshamov_bound(q=2, n=19, d=3)\n",
    "print(\"A₂(19, 3) ≥ \" + str(max_value))"
   ],
   "metadata": {
    "collapsed": false,
    "pycharm": {
     "name": "#%%\n"
    }
   }
  },
  {
   "cell_type": "markdown",
   "source": [
    "### Граница Грайсмера\n",
    "\n",
    "Для двоичного линейного кода верно:\n",
    "\n",
    "$$N(k, d) \\ge d + N\\Bigl(k - 1, \\Bigl\\lceil\\frac{d}{2}\\Bigr\\rceil\\Bigr)$$"
   ],
   "metadata": {
    "collapsed": false,
    "pycharm": {
     "name": "#%% md\n"
    }
   }
  },
  {
   "cell_type": "code",
   "execution_count": 7,
   "outputs": [
    {
     "name": "stdout",
     "output_type": "stream",
     "text": [
      "N(14, 5) ≥ 21\n"
     ]
    }
   ],
   "source": [
    "from coding.linear.griesmer import griesmer_bound\n",
    "\n",
    "max_value = griesmer_bound(k=14, d=5)\n",
    "print(\"N(14, 5) ≥ \" + str(max_value))"
   ],
   "metadata": {
    "collapsed": false,
    "pycharm": {
     "name": "#%%\n"
    }
   }
  }
 ],
 "metadata": {
  "kernelspec": {
   "display_name": "Python 3",
   "language": "python",
   "name": "python3"
  },
  "language_info": {
   "codemirror_mode": {
    "name": "ipython",
    "version": 2
   },
   "file_extension": ".py",
   "mimetype": "text/x-python",
   "name": "python",
   "nbconvert_exporter": "python",
   "pygments_lexer": "ipython2",
   "version": "2.7.6"
  }
 },
 "nbformat": 4,
 "nbformat_minor": 0
}