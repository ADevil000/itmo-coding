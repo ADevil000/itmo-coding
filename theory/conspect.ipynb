{
 "cells": [
  {
   "cell_type": "markdown",
   "metadata": {
    "collapsed": false,
    "pycharm": {
     "name": "#%% md\n"
    }
   },
   "source": [
    "# Теория кодирования"
   ]
  },
  {
   "cell_type": "markdown",
   "metadata": {
    "collapsed": false,
    "pycharm": {
     "name": "#%% md\n"
    }
   },
   "source": [
    "## Канал передачи информации\n",
    "\n",
    "Канал передачи данных характеризуется тремя составляющими:\n",
    "\n",
    "* Входной алфавит $\\mathbb{X}$ и случайная величина $X \\in \\mathbb{X}$\n",
    "* Выходной алфавит $\\mathbb{Y}$ и случайная величина $Y \\in \\mathbb{Y}$\n",
    "* Условное распределение $P_{Y^m|X^n} \\{y|x\\}$, где $x \\in \\mathbb{X}^n$ и $y \\in \\mathbb{Y}^m$"
   ]
  },
  {
   "cell_type": "markdown",
   "metadata": {
    "collapsed": false,
    "pycharm": {
     "name": "#%% md\n"
    }
   },
   "source": [
    "## Виды каналов\n",
    "\n",
    "Если $\\mathbb{X}, \\mathbb{Y} \\in FinSet$, то такой канал называется дискретным. Если $\\mathbb{X} \\in FinSet, \\mathbb{Y} \\subseteq \\mathbb{R}$, то такой канал называется полунепрерывным. Если $\\mathbb{X}, \\mathbb{Y} \\subseteq \\mathbb{R}$, то такой канал называется непрерывным. Дискретный канал называется $q$-ичным, если $|\\mathbb{X}| = |\\mathbb{Y}| = q$ (при $q = 2$ канал называется двоичным).\n",
    "\n",
    "В случае дискретных алфавитов распределение $P_{Y|X} \\{y|x\\}$ задаётся в виде матрицы $\\Pi_{Y|X}$ переходных вероятностей. Дискретный канал называется симметричным по входу (выходу), если все строки (столбцы) матрицы переходных вероятностей являются перестановками первой строки (первого столбца). Если канал симметричен как по входу, так и по выходу, то такой канал называется полностью симметричным.\n",
    "\n",
    "Также можно ввести понятие стирающего канала, если добавить в $\\mathbb{Y}$ стирающий элемент $\\epsilon$.\n",
    "\n",
    "Также существуют каналы с памятью, для которых для каждой последующей передачи данных матрица переходных вероятностей меняется. В дальнейшем речь ведётся только о каналах без памяти."
   ]
  },
  {
   "cell_type": "markdown",
   "metadata": {
    "collapsed": false,
    "pycharm": {
     "name": "#%% md\n"
    }
   },
   "source": [
    "### Двоичный симметричный канал\n",
    "\n",
    "Двоичный симметричный канал характеризуется:\n",
    "\n",
    "* $\\mathbb{X} = \\mathbb{Y} = \\mathbb{B}$\n",
    "* Условное распределение $P_{Y|X}(y,x) = p^{\\delta(y, x)} (1 - p)^{1 - \\delta(y, x)} = (1-p) \\Bigr(\\frac{p}{1-p}\\Bigl)^{\\delta(y, x)}$, где $\\delta(x, y)$ — функция Кронекера\n",
    "\n",
    "Двоичный симметричный канал характеризуется схемой Бернулли. Вероятность наличия ошибок при декодировании, исправляющим $t$ ошибок, составляет:\n",
    "\n",
    "$$P_{error}(n, t) = \\sum_{i = t + 1}^n C_n^i p^i (1-p)^{n-i}$$\n",
    "\n"
   ]
  },
  {
   "cell_type": "code",
   "execution_count": 1,
   "metadata": {
    "collapsed": false,
    "pycharm": {
     "name": "#%%\n"
    }
   },
   "outputs": [
    {
     "name": "stdout",
     "output_type": "stream",
     "text": [
      "p = 0.3535533905932738\n",
      "P(0|0) = 0.6464466094067263\n",
      "P(0|1) = 0.3535533905932738\n"
     ]
    }
   ],
   "source": [
    "import math\n",
    "\n",
    "from channel import bsc_probability\n",
    "from algebraic.binary import Binary\n",
    "\n",
    "b0 = Binary(0)\n",
    "b1 = Binary(1)\n",
    "\n",
    "p = math.sqrt(2) / 4\n",
    "print(\"p = \" + str(p))\n",
    "print(\"P(0|0) = \" + str(bsc_probability(x=b0, y=b0, p=p)))\n",
    "print(\"P(0|1) = \" + str(bsc_probability(x=b1, y=b0, p=p)))"
   ]
  },
  {
   "cell_type": "markdown",
   "metadata": {
    "collapsed": false,
    "pycharm": {
     "name": "#%% md\n"
    }
   },
   "source": [
    "### Аддитивный гауссовский канал\n",
    "\n",
    "Аддитивный гауссовский канал с аддитивным белым гауссовским шумом характеризуется:\n",
    "\n",
    "* Случайной величиной $Z \\sim N(0, \\sigma^2)$ (нормальное распределение), отвечающей за шум\n",
    "* Входным алфавитом $\\mathbb{X} \\subseteq \\mathbb{R}$ и случайной величиной $X \\in \\mathbb{X}$\n",
    "* Выходным алфавитом $\\mathbb{Y} = \\mathbb{R}$ и случайной величиной $Y = X + Z$\n",
    "* Условное распределение $P_{Y|X} \\{y|x\\} = \\frac{1}{\\sqrt{2 \\pi \\sigma^2}} e^{-\\frac{(y-x)^2}{2 \\sigma^2}}$"
   ]
  },
  {
   "cell_type": "code",
   "execution_count": 2,
   "metadata": {
    "collapsed": false,
    "pycharm": {
     "name": "#%%\n"
    }
   },
   "outputs": [
    {
     "name": "stdout",
     "output_type": "stream",
     "text": [
      "σ = 0.3535533905932738\n",
      "P(0.175|1) = 0.07414610337406824\n",
      "P(0.175|-1) = 0.004508829189592974\n"
     ]
    }
   ],
   "source": [
    "from channel import awgnc_probability\n",
    "\n",
    "sigma = math.sqrt(2) / 4\n",
    "print(\"σ = \" + str(sigma))\n",
    "print(\"P(0.175|1) = \" + str(awgnc_probability(x=1, y=0.175, sigma=sigma)))\n",
    "print(\"P(0.175|-1) = \" + str(awgnc_probability(x=-1, y=0.175, sigma=sigma)))"
   ]
  },
  {
   "cell_type": "markdown",
   "metadata": {
    "collapsed": false,
    "pycharm": {
     "name": "#%% md\n"
    }
   },
   "source": [
    "## Декодирование\n",
    "\n",
    "Задачей декодера является нахождение оценки $\\hat{x}$ сообщения, закодированного кодером и подвергнувшегося случайным искажениям в канале (__поблоковое декодирование__), либо оценки каждого отдельного символа $\\hat{x_i}$ (__посимвольное декодирование__).\n",
    "\n",
    "Естественным критерием качества декодирования является вероятность несовпадения оценки $\\hat{x}$ и истинного сообщения $x$. Если $y$ — принятый вектор, то такая вероятность ошибки равна:\n",
    "\n",
    "$$P_{error} = P \\{x \\neq \\hat{x}\\} = \\sum_{x \\neq \\hat{x}} P_{X|Y} \\{x|y\\} = 1 - P_{X|Y} \\{\\hat{x}|y\\}$$"
   ]
  },
  {
   "cell_type": "markdown",
   "metadata": {
    "collapsed": false,
    "pycharm": {
     "name": "#%% md\n"
    }
   },
   "source": [
    "### Критерий максимума апостериорной вероятность (критерий идеального наблюдателя)\n",
    "\n",
    "Очевидно, что минимальная вероятность ошибки достигается при выборе:\n",
    "\n",
    "$$\\hat{x} = \\underset{x}{\\operatorname{argmax}} P_{X|Y} \\{x|y\\}$$"
   ]
  },
  {
   "cell_type": "markdown",
   "metadata": {
    "collapsed": false,
    "pycharm": {
     "name": "#%% md\n"
    }
   },
   "source": [
    "### Критерий максимума правдоподобия\n",
    "\n",
    "$$\\hat{x} = \\underset{x}{\\operatorname{argmax}} P_{Y|X} \\{y|x\\}$$\n",
    "\n",
    "В общем случае, данные два критерия не являются эквивалентными. Однако если все сообщения равновероятны (т.е. $\\forall x . P_X \\{x\\} = s$), тогда по теореме Байеса можно вывести, что\n",
    "\n",
    "$$\n",
    "\\underset{x}{\\operatorname{argmax}} P_{Y|X} \\{y|x\\} =\n",
    "\\underset{x}{\\operatorname{argmax}} \\frac{P_{X|Y} \\{x|y\\} P_Y \\{y\\}}{P_X \\{x\\}} =\n",
    "\\underset{x}{\\operatorname{argmax}} \\frac{P_{X|Y} \\{x|y\\}}{s} =\n",
    "\\underset{x}{\\operatorname{argmax}} P_{X|Y} \\{x|y\\}\n",
    "$$\n",
    "\n",
    "При посимвольном декодировании верно для каналов без памяти:\n",
    "\n",
    "$$\n",
    "\\hat{x} =\n",
    "\\underset{x}{\\operatorname{argmax}} P_{Y^n|X^n} \\{y|x\\} =\n",
    "\\underset{x}{\\operatorname{argmax}} P_{Y^n|X^n} \\{y_1, y_2, \\dots y_n|x_1, x_2, \\dots x_n\\} =\n",
    "\\underset{x}{\\operatorname{argmax}} \\prod_{i=1}^{n} P_{Y|X} \\{y_i|x_i\\}\n",
    "$$"
   ]
  },
  {
   "cell_type": "markdown",
   "metadata": {
    "collapsed": false,
    "pycharm": {
     "name": "#%% md\n"
    }
   },
   "source": [
    "### Логарифмическое отношение правдоподобия\n",
    "\n",
    "В случае $\\mathbb{X} = \\{a, b\\}$ часто полезно оценить надёжность оценки для каждого символа через логарифмическое отношение:\n",
    "\n",
    "$$L = \\ln\\frac{P \\{x_i=a|y\\}}{P \\{x_i=b|y\\}} = \\ln\\frac{\\sum_{x|x_i=a} P_{X|Y} \\{x|y\\}}{\\sum_{x|x_i=b} P_{X|Y} \\{x|y\\}}$$"
   ]
  },
  {
   "cell_type": "markdown",
   "metadata": {
    "collapsed": false,
    "pycharm": {
     "name": "#%% md\n"
    }
   },
   "source": [
    "#### Логарифмическое отношение правдоподобия в аддитивном гауссовском канале\n",
    "\n",
    "$$\n",
    "L =\n",
    "\\ln\\frac{P \\{x_i=-1|y\\}}{P \\{x_i=1|y\\}} =\n",
    "\\ln\\frac{P \\{y|x_i=-1\\}}{P \\{y|x_i=1\\}} =\n",
    "\\ln\\frac{\\frac{1}{\\sqrt{2 \\pi \\sigma^2}} \\cdot \\exp{-\\frac{(y_i + 1)^2}{2\\sigma^2}}}{\\frac{1}{\\sqrt{2 \\pi \\sigma^2}} \\cdot \\exp{-\\frac{(y_i - 1)^2}{2\\sigma^2}}} =\n",
    "\\ln\\exp\\frac{(y_i - 1)^2-(y_i + 1)^2}{2\\sigma^2} =\n",
    "-\\frac{2y_i}{\\sigma^2}\n",
    "$$"
   ]
  },
  {
   "cell_type": "markdown",
   "metadata": {
    "collapsed": false,
    "pycharm": {
     "name": "#%% md\n"
    }
   },
   "source": [
    "### Критерий минимального расстояния\n",
    "\n",
    "Введём функцию расстояния $d(x,y) : \\mathbb{Y} \\times \\mathbb{Y} \\rightarrow \\mathbb{D}$, где $\\mathbb{D} \\subseteq \\mathbb{R}_{+}$. Тогда критерием минимального расстояния будет являться:\n",
    "\n",
    "$$\\hat{x} = \\underset{x}{\\operatorname{argmin}} d(y,x)$$"
   ]
  },
  {
   "cell_type": "markdown",
   "metadata": {
    "collapsed": false,
    "pycharm": {
     "name": "#%% md\n"
    }
   },
   "source": [
    "#### Критерий минимального расстояния Хэмминга в двоичном симметричном канале\n",
    "\n",
    "В случае двоичного симметричного канала если $p \\le \\frac{1}{2}$, то критерий минимального расстояния Хэмминга эквивалентен критерию максимума правдоподобия:\n",
    "\n",
    "$$\n",
    "\\underset{x}{\\operatorname{argmax}}P(y | x) =\n",
    "\\underset{x}{\\operatorname{argmax}} \\sum_{i=1}^{n} (1-p) \\Bigr(\\frac{p}{1-p}\\Bigl)^{\\delta(y_i, x_i)} \\sim\n",
    "\\underset{x}{\\operatorname{argmax}} \\sum_{i=1}^{n} \\Bigr(1-\\frac{1}{1-p}\\Bigl)^{\\delta(y_i, x_i)} \\sim\n",
    "\\underset{x}{\\operatorname{argmin}} \\sum_{i=1}^{n} \\delta(y_i, x_i) =\n",
    "\\underset{x}{\\operatorname{argmin}} d_H(y, x)\n",
    "$$"
   ]
  },
  {
   "cell_type": "markdown",
   "metadata": {
    "collapsed": false,
    "pycharm": {
     "name": "#%% md\n"
    }
   },
   "source": [
    "#### Критерий минимального Евклидового расстояния в аддитивном гауссовском канале\n",
    "\n",
    "В случае канала с АБГШ критерий минимального Евклидового расстояния эквивалентен критерию максимума правдоподобия:\n",
    "\n",
    "$$\n",
    "\\underset{x}{\\operatorname{argmax}} P(y | x) =\n",
    "\\underset{x}{\\operatorname{argmax}} \\prod_{i = 0}^{n- 1} \\frac{\\exp{-\\frac{(y_i - x_i)^2}{2\\sigma^2}}}{\\sqrt{2 \\pi \\sigma^2}} \\sim\n",
    "- \\underset{x}{\\operatorname{argmax}} \\sum_{i = 0}^{n - 1} \\frac{(y_i - x_i)^2}{2\\sigma^2} \\sim\n",
    "\\underset{x}{\\operatorname{argmin}} \\sum_{i = 0}^{n - 1} (y_i - x_i)^2 \\sim\n",
    "\\underset{x}{\\operatorname{argmin}}d_E(y, x)\n",
    "$$"
   ]
  },
  {
   "cell_type": "markdown",
   "source": [
    "## Жёсткое и мягкое декодирование\n",
    "\n",
    "Для того чтобы информация, полученная от кодера, переходила в канал, а после из канала данные поступали в декодер, используются модуляторы и демодуляторы. Если демодулятор преобразует сигнал в $\\mathbb{Y}$, тогда такое детектирование сигнала называется жёстким. В таком случае демодулятор уже даёт посимвольную оценку $\\hat{x_i}$, и в дальнейшем декодер оперирует с этими оценками. Декодирование, оперирующее с жёсткими оценками, называется жёстким.\n",
    "\n",
    "Можно заметить, что недостатком жёсткого детектирование является то, что мы теряем информацию о надёжности решений демодулятора. Поэтому также существуют демодуляторы с мягким детектированием, которые на выходе будут давать оценки $P_{X|Y} \\{x|y\\}$ для каждого символа. Декодирование, оперирующее с мягкими оценками, называется мягким.\n",
    "\n",
    "По аналогии с демодуляторами, существуют и декодеры с жёсткими и мягкими решениями. Таким образом, можно комбинировать декодеры."
   ],
   "metadata": {
    "collapsed": false,
    "pycharm": {
     "name": "#%% md\n"
    }
   }
  }
 ],
 "metadata": {
  "kernelspec": {
   "display_name": "Python 3",
   "language": "python",
   "name": "python3"
  },
  "language_info": {
   "codemirror_mode": {
    "name": "ipython",
    "version": 2
   },
   "file_extension": ".py",
   "mimetype": "text/x-python",
   "name": "python",
   "nbconvert_exporter": "python",
   "pygments_lexer": "ipython2",
   "version": "2.7.6"
  }
 },
 "nbformat": 4,
 "nbformat_minor": 0
}